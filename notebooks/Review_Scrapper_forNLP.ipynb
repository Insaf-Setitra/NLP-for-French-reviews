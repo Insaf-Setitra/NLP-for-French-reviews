{
  "nbformat": 4,
  "nbformat_minor": 0,
  "metadata": {
    "colab": {
      "provenance": []
    },
    "kernelspec": {
      "name": "python3",
      "display_name": "Python 3"
    },
    "language_info": {
      "name": "python"
    }
  },
  "cells": [
    {
      "cell_type": "markdown",
      "source": [
        "# **Scrapping reviews from truspilot**\n",
        "This code scrapps reviews from Trustpilot for a certain company and returns a csv file with the needed content\n",
        "\n",
        "The tutorial associated can be found in [this link](https://medium.com/@isetitra/b79ffde43232).\n"
      ],
      "metadata": {
        "id": "mmR0yz3Fe4yJ"
      }
    },
    {
      "cell_type": "markdown",
      "source": [
        "### **Step 1: import the libraries**"
      ],
      "metadata": {
        "id": "5H7scCMjfHc8"
      }
    },
    {
      "cell_type": "code",
      "source": [
        "import requests\n",
        "from bs4 import BeautifulSoup\n",
        "import json\n",
        "import pandas as pd\n",
        "import numpy as np"
      ],
      "metadata": {
        "id": "XaCWkRyrvt5Z"
      },
      "execution_count": null,
      "outputs": []
    },
    {
      "cell_type": "markdown",
      "source": [
        "### **Step 2: Define the necessary functions**"
      ],
      "metadata": {
        "id": "C7t_WFU9fU3p"
      }
    },
    {
      "cell_type": "markdown",
      "source": [
        "Define some helper functions"
      ],
      "metadata": {
        "id": "90j_4YO37ID3"
      }
    },
    {
      "cell_type": "code",
      "source": [
        "def replace_br(elements):\n",
        "  element_content =''\n",
        "  for line in elements:\n",
        "      element_content += str(line) if str(line) != '<br/>' else '. '\n",
        "  return element_content"
      ],
      "metadata": {
        "id": "bY6OnDK-OR7I"
      },
      "execution_count": null,
      "outputs": []
    },
    {
      "cell_type": "code",
      "source": [
        "def get_content(review, key, elt_tag, elt_class):\n",
        "  if key == 'rating':\n",
        "    element = review.find_all(elt_tag, class_=elt_class)\n",
        "    elements = element[0] if element and 0 < len(element) else '-1'\n",
        "    element_content = elements.get('data-service-review-rating')\n",
        "  elif key == 'review_date':\n",
        "    element = review.find_all('time')\n",
        "    element_content = element[0].get('datetime') if 0 < len(element) else ''  \n",
        "  elif key == 'reply':\n",
        "    element = review.find_all(elt_tag, class_=elt_class)\n",
        "    element_content = ''\n",
        "    if 1 < len(element):\n",
        "        elements = element[2].contents if element else []\n",
        "        if 0 < len(elements):\n",
        "            element_content = elements[0]\n",
        "  elif key == 'reply_date':\n",
        "    element = review.find_all('time')\n",
        "    element_content = element[1].get('datetime') if 1 < len(element) else ''\n",
        "  else:\n",
        "    element = review.find_all(elt_tag, class_=elt_class)\n",
        "    elements = element[0].contents if element else []\n",
        "    element_content = replace_br(elements)     \n",
        "\n",
        "  return element_content\n"
      ],
      "metadata": {
        "id": "oUm6XCrLYRr5"
      },
      "execution_count": null,
      "outputs": []
    },
    {
      "cell_type": "markdown",
      "source": [
        "### **Step 3: Scrap one page**"
      ],
      "metadata": {
        "id": "hHBb7D9u8EvV"
      }
    },
    {
      "cell_type": "markdown",
      "source": [
        "Defining the url to scrap"
      ],
      "metadata": {
        "id": "EhwPHYsm8APv"
      }
    },
    {
      "cell_type": "code",
      "source": [
        "url = 'https://fr.trustpilot.com/review/www.carrefour.fr'\n",
        "index= 0\n",
        "url = url + \"?page=\" + str(index + 1)\n",
        "print('Scrapping page ',index, ' from url ', url)"
      ],
      "metadata": {
        "colab": {
          "base_uri": "https://localhost:8080/"
        },
        "id": "JOPPJnzFyLqT",
        "outputId": "8819939f-bf5e-4f51-ceed-5c9843ce3fd9"
      },
      "execution_count": null,
      "outputs": [
        {
          "output_type": "stream",
          "name": "stdout",
          "text": [
            "Scrapping page  0  from url  https://fr.trustpilot.com/review/www.carrefour.fr?page=1\n"
          ]
        }
      ]
    },
    {
      "cell_type": "markdown",
      "source": [
        "Scrapping the content of the web page"
      ],
      "metadata": {
        "id": "NJaZ-Rdb75Es"
      }
    },
    {
      "cell_type": "code",
      "source": [
        "page = requests.get(url)\n",
        "soup = BeautifulSoup(page.content, 'html.parser')"
      ],
      "metadata": {
        "id": "xSQ2brdBycT2"
      },
      "execution_count": null,
      "outputs": []
    },
    {
      "cell_type": "code",
      "source": [
        "content_page = soup.find_all(\"script\", id=\"__NEXT_DATA__\")[0].contents[0]"
      ],
      "metadata": {
        "id": "zB1Ln_I26KbA"
      },
      "execution_count": null,
      "outputs": []
    },
    {
      "cell_type": "markdown",
      "source": [
        "Getting the json file"
      ],
      "metadata": {
        "id": "6xKsimRp5tDz"
      }
    },
    {
      "cell_type": "code",
      "source": [
        "content_page_json = json.loads(content_page)"
      ],
      "metadata": {
        "id": "sSNDKNM3zpwy"
      },
      "execution_count": null,
      "outputs": []
    },
    {
      "cell_type": "code",
      "source": [
        "with open('json_file.json', 'w') as outfile:\n",
        "  outfile.write(json.dumps(content_page_json))\n"
      ],
      "metadata": {
        "id": "nsw7a-RM0Kez"
      },
      "execution_count": null,
      "outputs": []
    },
    {
      "cell_type": "code",
      "source": [
        "# This command returns the number of pages that are contained in the web according to the url we gave\n",
        "num_of_pages: int = content_page_json.get('props').get('pageProps')\\\n",
        "                .get('filters').get('pagination').get('totalPages')\n",
        "num_of_pages "
      ],
      "metadata": {
        "colab": {
          "base_uri": "https://localhost:8080/"
        },
        "id": "IAV-hAmZ0IMG",
        "outputId": "af0062ca-12bd-4def-91e6-c99f86c3c3b1"
      },
      "execution_count": null,
      "outputs": [
        {
          "output_type": "execute_result",
          "data": {
            "text/plain": [
              "103"
            ]
          },
          "metadata": {},
          "execution_count": 36
        }
      ]
    },
    {
      "cell_type": "markdown",
      "source": [
        "Getting the content of the web page.\n",
        "\n",
        "First Get the tags we are interested in."
      ],
      "metadata": {
        "id": "RwBTWEq1771F"
      }
    },
    {
      "cell_type": "code",
      "source": [
        "elt_tag = {'title': 'h2', 'rating': 'div', 'text': 'p', 'review_date': 'time', 'reply': 'p', 'reply_date': 'time'}\n",
        "elt_class = {'title': 'typography_heading-s__f7029',\n",
        "               'rating': 'styles_reviewHeader__iU9Px', 'text': 'typography_body-l__KUYFJ','review_date': 'time'\n",
        "               , 'reply': 'typography_body-m__xgxZ_',  'reply_date': 'typography_body-m__xgxZ_'}"
      ],
      "metadata": {
        "id": "42PKAPkUDoHf"
      },
      "execution_count": null,
      "outputs": []
    },
    {
      "cell_type": "markdown",
      "source": [
        "Get the main tag which contains all the information about a review"
      ],
      "metadata": {
        "id": "0T8VqlBW42bK"
      }
    },
    {
      "cell_type": "code",
      "source": [
        "reviews = soup.find_all('div', 'styles_cardWrapper__LcCPA')"
      ],
      "metadata": {
        "id": "3Fdr-R3QTw2_"
      },
      "execution_count": null,
      "outputs": []
    },
    {
      "cell_type": "code",
      "source": [
        "type(reviews)"
      ],
      "metadata": {
        "colab": {
          "base_uri": "https://localhost:8080/"
        },
        "id": "HQEmogT_82Wf",
        "outputId": "e365485a-39b2-40ec-b5d2-315408a5599e"
      },
      "execution_count": null,
      "outputs": [
        {
          "output_type": "execute_result",
          "data": {
            "text/plain": [
              "bs4.element.ResultSet"
            ]
          },
          "metadata": {},
          "execution_count": 39
        }
      ]
    },
    {
      "cell_type": "code",
      "source": [
        "print ( 'the number of reviews for this page is : ' , len(reviews) )"
      ],
      "metadata": {
        "colab": {
          "base_uri": "https://localhost:8080/"
        },
        "id": "UVBQsNW3UojQ",
        "outputId": "d17300a4-4d7b-4bd5-c291-eb009d43469c"
      },
      "execution_count": null,
      "outputs": [
        {
          "output_type": "stream",
          "name": "stdout",
          "text": [
            "the number of reviews for this page is :  20\n"
          ]
        }
      ]
    },
    {
      "cell_type": "markdown",
      "source": [
        "Get the reviews in a data frame"
      ],
      "metadata": {
        "id": "Cz_1saP17K7g"
      }
    },
    {
      "cell_type": "code",
      "source": [
        "all_reviews = pd.DataFrame()\n",
        "for (k1,v1), (k2,v2) in zip(elt_tag.items(), elt_class.items()):\n",
        "    all_reviews[k1]=''\n",
        "\n",
        "i=0\n",
        "for review in reviews:\n",
        "  all_reviews.loc[i]=''\n",
        "  for (k1,v1), (k2,v2) in zip(elt_tag.items(), elt_class.items()):\n",
        "    all_reviews[k1].iloc[i] = get_content(review, k1, v1, v2)\n",
        "  i+=1"
      ],
      "metadata": {
        "id": "MNK9zVvz1QsE"
      },
      "execution_count": null,
      "outputs": []
    },
    {
      "cell_type": "code",
      "source": [
        "type(review)"
      ],
      "metadata": {
        "colab": {
          "base_uri": "https://localhost:8080/"
        },
        "id": "b8mU0SlO_mO6",
        "outputId": "a9ee29d1-a746-49da-f8e7-d718de8813e6"
      },
      "execution_count": null,
      "outputs": [
        {
          "output_type": "execute_result",
          "data": {
            "text/plain": [
              "bs4.element.Tag"
            ]
          },
          "metadata": {},
          "execution_count": 42
        }
      ]
    },
    {
      "cell_type": "markdown",
      "source": [
        "Have some displays to understand the content"
      ],
      "metadata": {
        "id": "mLevAAoWC0lR"
      }
    },
    {
      "cell_type": "code",
      "source": [
        "elt_tag"
      ],
      "metadata": {
        "colab": {
          "base_uri": "https://localhost:8080/"
        },
        "id": "VVeAp3yKDMsF",
        "outputId": "77bc6de4-b2cb-49e3-c816-a326c12f616d"
      },
      "execution_count": null,
      "outputs": [
        {
          "output_type": "execute_result",
          "data": {
            "text/plain": [
              "{'title': 'h2',\n",
              " 'rating': 'div',\n",
              " 'text': 'p',\n",
              " 'review_date': 'time',\n",
              " 'reply': 'p',\n",
              " 'reply_date': 'time'}"
            ]
          },
          "metadata": {},
          "execution_count": 43
        }
      ]
    },
    {
      "cell_type": "code",
      "source": [
        "elt_class"
      ],
      "metadata": {
        "colab": {
          "base_uri": "https://localhost:8080/"
        },
        "id": "8dcaOgKvC1Gj",
        "outputId": "d3f51ace-2e0f-4c91-d901-a986ac4ebc5a"
      },
      "execution_count": null,
      "outputs": [
        {
          "output_type": "execute_result",
          "data": {
            "text/plain": [
              "{'title': 'typography_heading-s__f7029',\n",
              " 'rating': 'styles_reviewHeader__iU9Px',\n",
              " 'text': 'typography_body-l__KUYFJ',\n",
              " 'review_date': 'time',\n",
              " 'reply': 'typography_body-m__xgxZ_',\n",
              " 'reply_date': 'typography_body-m__xgxZ_'}"
            ]
          },
          "metadata": {},
          "execution_count": 44
        }
      ]
    },
    {
      "cell_type": "code",
      "source": [
        "element = review.find_all(elt_tag['rating'], elt_class['rating'])\n",
        "element[0]"
      ],
      "metadata": {
        "colab": {
          "base_uri": "https://localhost:8080/"
        },
        "id": "E1AQV21LCo-3",
        "outputId": "0db429b1-0ddc-4842-a569-b8465b0adf83"
      },
      "execution_count": null,
      "outputs": [
        {
          "output_type": "execute_result",
          "data": {
            "text/plain": [
              "<div class=\"styles_reviewHeader__iU9Px\" data-service-review-rating=\"1\"><div class=\"star-rating_starRating__4rrcf star-rating_medium__iN6Ty\"><img alt=\"Noté 1 sur 5 étoiles\" src=\"https://cdn.trustpilot.net/brand-assets/4.1.0/stars/stars-1.svg\"/></div><div class=\"typography_body-m__xgxZ_ typography_appearance-subtle__8_H2l styles_datesWrapper__RCEKH\"><time class=\"\" data-service-review-date-time-ago=\"true\" datetime=\"2023-02-14T13:34:12.000Z\">14 févr. 2023</time></div></div>"
            ]
          },
          "metadata": {},
          "execution_count": 45
        }
      ]
    },
    {
      "cell_type": "code",
      "source": [
        "element[0].contents"
      ],
      "metadata": {
        "colab": {
          "base_uri": "https://localhost:8080/"
        },
        "id": "gweNuaI_Dq7a",
        "outputId": "f1e17c40-7d6f-4220-f342-64ad5ba32aa8"
      },
      "execution_count": null,
      "outputs": [
        {
          "output_type": "execute_result",
          "data": {
            "text/plain": [
              "[<div class=\"star-rating_starRating__4rrcf star-rating_medium__iN6Ty\"><img alt=\"Noté 1 sur 5 étoiles\" src=\"https://cdn.trustpilot.net/brand-assets/4.1.0/stars/stars-1.svg\"/></div>,\n",
              " <div class=\"typography_body-m__xgxZ_ typography_appearance-subtle__8_H2l styles_datesWrapper__RCEKH\"><time class=\"\" data-service-review-date-time-ago=\"true\" datetime=\"2023-02-14T13:34:12.000Z\">14 févr. 2023</time></div>]"
            ]
          },
          "metadata": {},
          "execution_count": 46
        }
      ]
    },
    {
      "cell_type": "code",
      "source": [
        "element = review.find_all(elt_tag['title'], elt_class['title'])\n",
        "element[0]"
      ],
      "metadata": {
        "colab": {
          "base_uri": "https://localhost:8080/"
        },
        "id": "2T3rH-BdDGYL",
        "outputId": "9175c21c-71bf-4bd2-cdf2-32d6ae41188c"
      },
      "execution_count": null,
      "outputs": [
        {
          "output_type": "execute_result",
          "data": {
            "text/plain": [
              "<h2 class=\"typography_heading-s__f7029 typography_appearance-default__AAY17\" data-service-review-title-typography=\"true\">Promotion carrefour 30 pour cent  sur…</h2>"
            ]
          },
          "metadata": {},
          "execution_count": 47
        }
      ]
    },
    {
      "cell_type": "code",
      "source": [
        "element[0].contents"
      ],
      "metadata": {
        "colab": {
          "base_uri": "https://localhost:8080/"
        },
        "id": "7h3WHma1DkWN",
        "outputId": "c130f98c-8a36-41c6-9bef-61e6d58513ab"
      },
      "execution_count": null,
      "outputs": [
        {
          "output_type": "execute_result",
          "data": {
            "text/plain": [
              "['Promotion carrefour 30 pour cent  sur…']"
            ]
          },
          "metadata": {},
          "execution_count": 48
        }
      ]
    },
    {
      "cell_type": "markdown",
      "source": [
        "### Display some reviews"
      ],
      "metadata": {
        "id": "CEcOtHw77N6b"
      }
    },
    {
      "cell_type": "code",
      "source": [
        "all_reviews.head()"
      ],
      "metadata": {
        "id": "J-2F99wD3I_D",
        "colab": {
          "base_uri": "https://localhost:8080/",
          "height": 250
        },
        "outputId": "c1248d44-57b4-40b4-942f-48ab03a64af9"
      },
      "execution_count": null,
      "outputs": [
        {
          "output_type": "execute_result",
          "data": {
            "text/plain": [
              "                                    title rating  \\\n",
              "0               bravo, c'est plus simple.      1   \n",
              "1  Bonjour pour une fois je commande sur…      1   \n",
              "2        Bravo le gaspillage énergétique!      1   \n",
              "3                         SAV incompétent      1   \n",
              "4    De passage dans la région je vais à…      1   \n",
              "\n",
              "                                                text  \\\n",
              "0  : rien à redire pour le produit. par contre co...   \n",
              "1  Bonjour pour une fois je commande sur internet...   \n",
              "2  Je trouve ça honteux de trouver encore dans ce...   \n",
              "3  J’ai commandé une PlayStation 5. La livraison ...   \n",
              "4  De passage dans la région je vais à Carrefour ...   \n",
              "\n",
              "                review_date  \\\n",
              "0  2023-03-09T12:39:39.000Z   \n",
              "1  2023-03-09T20:34:24.000Z   \n",
              "2  2023-03-08T14:26:46.000Z   \n",
              "3  2023-03-06T21:56:51.000Z   \n",
              "4  2023-03-04T21:10:55.000Z   \n",
              "\n",
              "                                               reply                reply_date  \n",
              "0                                                                               \n",
              "1                                                                               \n",
              "2  Bonjour, Carrefour a pris l'engagement de rédu...  2023-03-08T19:14:29.000Z  \n",
              "3  Bonjour, Pourriez-vous nous communiquer votre ...  2023-03-07T11:26:54.000Z  \n",
              "4  Bonjour, information pris près du magasin, c'e...  2023-03-06T14:48:54.000Z  "
            ],
            "text/html": [
              "\n",
              "  <div id=\"df-589ff809-080e-469f-a5d1-c05915ab4e0c\">\n",
              "    <div class=\"colab-df-container\">\n",
              "      <div>\n",
              "<style scoped>\n",
              "    .dataframe tbody tr th:only-of-type {\n",
              "        vertical-align: middle;\n",
              "    }\n",
              "\n",
              "    .dataframe tbody tr th {\n",
              "        vertical-align: top;\n",
              "    }\n",
              "\n",
              "    .dataframe thead th {\n",
              "        text-align: right;\n",
              "    }\n",
              "</style>\n",
              "<table border=\"1\" class=\"dataframe\">\n",
              "  <thead>\n",
              "    <tr style=\"text-align: right;\">\n",
              "      <th></th>\n",
              "      <th>title</th>\n",
              "      <th>rating</th>\n",
              "      <th>text</th>\n",
              "      <th>review_date</th>\n",
              "      <th>reply</th>\n",
              "      <th>reply_date</th>\n",
              "    </tr>\n",
              "  </thead>\n",
              "  <tbody>\n",
              "    <tr>\n",
              "      <th>0</th>\n",
              "      <td>bravo, c'est plus simple.</td>\n",
              "      <td>1</td>\n",
              "      <td>: rien à redire pour le produit. par contre co...</td>\n",
              "      <td>2023-03-09T12:39:39.000Z</td>\n",
              "      <td></td>\n",
              "      <td></td>\n",
              "    </tr>\n",
              "    <tr>\n",
              "      <th>1</th>\n",
              "      <td>Bonjour pour une fois je commande sur…</td>\n",
              "      <td>1</td>\n",
              "      <td>Bonjour pour une fois je commande sur internet...</td>\n",
              "      <td>2023-03-09T20:34:24.000Z</td>\n",
              "      <td></td>\n",
              "      <td></td>\n",
              "    </tr>\n",
              "    <tr>\n",
              "      <th>2</th>\n",
              "      <td>Bravo le gaspillage énergétique!</td>\n",
              "      <td>1</td>\n",
              "      <td>Je trouve ça honteux de trouver encore dans ce...</td>\n",
              "      <td>2023-03-08T14:26:46.000Z</td>\n",
              "      <td>Bonjour, Carrefour a pris l'engagement de rédu...</td>\n",
              "      <td>2023-03-08T19:14:29.000Z</td>\n",
              "    </tr>\n",
              "    <tr>\n",
              "      <th>3</th>\n",
              "      <td>SAV incompétent</td>\n",
              "      <td>1</td>\n",
              "      <td>J’ai commandé une PlayStation 5. La livraison ...</td>\n",
              "      <td>2023-03-06T21:56:51.000Z</td>\n",
              "      <td>Bonjour, Pourriez-vous nous communiquer votre ...</td>\n",
              "      <td>2023-03-07T11:26:54.000Z</td>\n",
              "    </tr>\n",
              "    <tr>\n",
              "      <th>4</th>\n",
              "      <td>De passage dans la région je vais à…</td>\n",
              "      <td>1</td>\n",
              "      <td>De passage dans la région je vais à Carrefour ...</td>\n",
              "      <td>2023-03-04T21:10:55.000Z</td>\n",
              "      <td>Bonjour, information pris près du magasin, c'e...</td>\n",
              "      <td>2023-03-06T14:48:54.000Z</td>\n",
              "    </tr>\n",
              "  </tbody>\n",
              "</table>\n",
              "</div>\n",
              "      <button class=\"colab-df-convert\" onclick=\"convertToInteractive('df-589ff809-080e-469f-a5d1-c05915ab4e0c')\"\n",
              "              title=\"Convert this dataframe to an interactive table.\"\n",
              "              style=\"display:none;\">\n",
              "        \n",
              "  <svg xmlns=\"http://www.w3.org/2000/svg\" height=\"24px\"viewBox=\"0 0 24 24\"\n",
              "       width=\"24px\">\n",
              "    <path d=\"M0 0h24v24H0V0z\" fill=\"none\"/>\n",
              "    <path d=\"M18.56 5.44l.94 2.06.94-2.06 2.06-.94-2.06-.94-.94-2.06-.94 2.06-2.06.94zm-11 1L8.5 8.5l.94-2.06 2.06-.94-2.06-.94L8.5 2.5l-.94 2.06-2.06.94zm10 10l.94 2.06.94-2.06 2.06-.94-2.06-.94-.94-2.06-.94 2.06-2.06.94z\"/><path d=\"M17.41 7.96l-1.37-1.37c-.4-.4-.92-.59-1.43-.59-.52 0-1.04.2-1.43.59L10.3 9.45l-7.72 7.72c-.78.78-.78 2.05 0 2.83L4 21.41c.39.39.9.59 1.41.59.51 0 1.02-.2 1.41-.59l7.78-7.78 2.81-2.81c.8-.78.8-2.07 0-2.86zM5.41 20L4 18.59l7.72-7.72 1.47 1.35L5.41 20z\"/>\n",
              "  </svg>\n",
              "      </button>\n",
              "      \n",
              "  <style>\n",
              "    .colab-df-container {\n",
              "      display:flex;\n",
              "      flex-wrap:wrap;\n",
              "      gap: 12px;\n",
              "    }\n",
              "\n",
              "    .colab-df-convert {\n",
              "      background-color: #E8F0FE;\n",
              "      border: none;\n",
              "      border-radius: 50%;\n",
              "      cursor: pointer;\n",
              "      display: none;\n",
              "      fill: #1967D2;\n",
              "      height: 32px;\n",
              "      padding: 0 0 0 0;\n",
              "      width: 32px;\n",
              "    }\n",
              "\n",
              "    .colab-df-convert:hover {\n",
              "      background-color: #E2EBFA;\n",
              "      box-shadow: 0px 1px 2px rgba(60, 64, 67, 0.3), 0px 1px 3px 1px rgba(60, 64, 67, 0.15);\n",
              "      fill: #174EA6;\n",
              "    }\n",
              "\n",
              "    [theme=dark] .colab-df-convert {\n",
              "      background-color: #3B4455;\n",
              "      fill: #D2E3FC;\n",
              "    }\n",
              "\n",
              "    [theme=dark] .colab-df-convert:hover {\n",
              "      background-color: #434B5C;\n",
              "      box-shadow: 0px 1px 3px 1px rgba(0, 0, 0, 0.15);\n",
              "      filter: drop-shadow(0px 1px 2px rgba(0, 0, 0, 0.3));\n",
              "      fill: #FFFFFF;\n",
              "    }\n",
              "  </style>\n",
              "\n",
              "      <script>\n",
              "        const buttonEl =\n",
              "          document.querySelector('#df-589ff809-080e-469f-a5d1-c05915ab4e0c button.colab-df-convert');\n",
              "        buttonEl.style.display =\n",
              "          google.colab.kernel.accessAllowed ? 'block' : 'none';\n",
              "\n",
              "        async function convertToInteractive(key) {\n",
              "          const element = document.querySelector('#df-589ff809-080e-469f-a5d1-c05915ab4e0c');\n",
              "          const dataTable =\n",
              "            await google.colab.kernel.invokeFunction('convertToInteractive',\n",
              "                                                     [key], {});\n",
              "          if (!dataTable) return;\n",
              "\n",
              "          const docLinkHtml = 'Like what you see? Visit the ' +\n",
              "            '<a target=\"_blank\" href=https://colab.research.google.com/notebooks/data_table.ipynb>data table notebook</a>'\n",
              "            + ' to learn more about interactive tables.';\n",
              "          element.innerHTML = '';\n",
              "          dataTable['output_type'] = 'display_data';\n",
              "          await google.colab.output.renderOutput(dataTable, element);\n",
              "          const docLink = document.createElement('div');\n",
              "          docLink.innerHTML = docLinkHtml;\n",
              "          element.appendChild(docLink);\n",
              "        }\n",
              "      </script>\n",
              "    </div>\n",
              "  </div>\n",
              "  "
            ]
          },
          "metadata": {},
          "execution_count": 49
        }
      ]
    },
    {
      "cell_type": "markdown",
      "source": [
        "### **Step 4: Scrap all the web pages**"
      ],
      "metadata": {
        "id": "bxTvuereHsHY"
      }
    },
    {
      "cell_type": "code",
      "source": [
        "# First get the number of pages \n",
        "url = 'https://fr.trustpilot.com/review/www.carrefour.fr'\n",
        "page = requests.get(url)\n",
        "soup = BeautifulSoup(page.content, 'html.parser')\n",
        "num_of_pages: int = content_page_json.get('props').get('pageProps')\\\n",
        "                .get('filters').get('pagination').get('totalPages')\n",
        "\n",
        "all_reviews = pd.DataFrame()\n",
        "\n",
        "for index in range(num_of_pages):\n",
        "  for (k1,v1), (k2,v2) in zip(elt_tag.items(), elt_class.items()):\n",
        "      all_reviews[k1]=''\n",
        "\n",
        "i=0\n",
        "for index in range(num_of_pages):\n",
        "  url_page = url + \"?page=\" + str(index + 1)\n",
        "  print('Scrapping page ',index, ' from url ', url)\n",
        "  page = requests.get(url_page)\n",
        "  soup = BeautifulSoup(page.content, 'html.parser')\n",
        "  reviews = soup.find_all('div', 'styles_cardWrapper__LcCPA')\n",
        "  for review in reviews:\n",
        "    all_reviews.loc[i]=''\n",
        "    for (k1,v1), (k2,v2) in zip(elt_tag.items(), elt_class.items()):\n",
        "      all_reviews[k1].iloc[i] = get_content(review, k1, v1, v2)\n",
        "    i+=1\n"
      ],
      "metadata": {
        "colab": {
          "base_uri": "https://localhost:8080/"
        },
        "id": "K7q10XYvHyo3",
        "outputId": "eafd8cbc-f1a5-4388-8752-ae01c936be24"
      },
      "execution_count": null,
      "outputs": [
        {
          "output_type": "stream",
          "name": "stdout",
          "text": [
            "Scrapping page  0  from url  https://fr.trustpilot.com/review/www.carrefour.fr\n",
            "Scrapping page  1  from url  https://fr.trustpilot.com/review/www.carrefour.fr\n",
            "Scrapping page  2  from url  https://fr.trustpilot.com/review/www.carrefour.fr\n",
            "Scrapping page  3  from url  https://fr.trustpilot.com/review/www.carrefour.fr\n",
            "Scrapping page  4  from url  https://fr.trustpilot.com/review/www.carrefour.fr\n",
            "Scrapping page  5  from url  https://fr.trustpilot.com/review/www.carrefour.fr\n",
            "Scrapping page  6  from url  https://fr.trustpilot.com/review/www.carrefour.fr\n",
            "Scrapping page  7  from url  https://fr.trustpilot.com/review/www.carrefour.fr\n",
            "Scrapping page  8  from url  https://fr.trustpilot.com/review/www.carrefour.fr\n",
            "Scrapping page  9  from url  https://fr.trustpilot.com/review/www.carrefour.fr\n",
            "Scrapping page  10  from url  https://fr.trustpilot.com/review/www.carrefour.fr\n",
            "Scrapping page  11  from url  https://fr.trustpilot.com/review/www.carrefour.fr\n",
            "Scrapping page  12  from url  https://fr.trustpilot.com/review/www.carrefour.fr\n",
            "Scrapping page  13  from url  https://fr.trustpilot.com/review/www.carrefour.fr\n",
            "Scrapping page  14  from url  https://fr.trustpilot.com/review/www.carrefour.fr\n",
            "Scrapping page  15  from url  https://fr.trustpilot.com/review/www.carrefour.fr\n",
            "Scrapping page  16  from url  https://fr.trustpilot.com/review/www.carrefour.fr\n",
            "Scrapping page  17  from url  https://fr.trustpilot.com/review/www.carrefour.fr\n",
            "Scrapping page  18  from url  https://fr.trustpilot.com/review/www.carrefour.fr\n",
            "Scrapping page  19  from url  https://fr.trustpilot.com/review/www.carrefour.fr\n",
            "Scrapping page  20  from url  https://fr.trustpilot.com/review/www.carrefour.fr\n",
            "Scrapping page  21  from url  https://fr.trustpilot.com/review/www.carrefour.fr\n",
            "Scrapping page  22  from url  https://fr.trustpilot.com/review/www.carrefour.fr\n",
            "Scrapping page  23  from url  https://fr.trustpilot.com/review/www.carrefour.fr\n",
            "Scrapping page  24  from url  https://fr.trustpilot.com/review/www.carrefour.fr\n",
            "Scrapping page  25  from url  https://fr.trustpilot.com/review/www.carrefour.fr\n",
            "Scrapping page  26  from url  https://fr.trustpilot.com/review/www.carrefour.fr\n",
            "Scrapping page  27  from url  https://fr.trustpilot.com/review/www.carrefour.fr\n",
            "Scrapping page  28  from url  https://fr.trustpilot.com/review/www.carrefour.fr\n",
            "Scrapping page  29  from url  https://fr.trustpilot.com/review/www.carrefour.fr\n",
            "Scrapping page  30  from url  https://fr.trustpilot.com/review/www.carrefour.fr\n",
            "Scrapping page  31  from url  https://fr.trustpilot.com/review/www.carrefour.fr\n",
            "Scrapping page  32  from url  https://fr.trustpilot.com/review/www.carrefour.fr\n",
            "Scrapping page  33  from url  https://fr.trustpilot.com/review/www.carrefour.fr\n",
            "Scrapping page  34  from url  https://fr.trustpilot.com/review/www.carrefour.fr\n",
            "Scrapping page  35  from url  https://fr.trustpilot.com/review/www.carrefour.fr\n",
            "Scrapping page  36  from url  https://fr.trustpilot.com/review/www.carrefour.fr\n",
            "Scrapping page  37  from url  https://fr.trustpilot.com/review/www.carrefour.fr\n",
            "Scrapping page  38  from url  https://fr.trustpilot.com/review/www.carrefour.fr\n",
            "Scrapping page  39  from url  https://fr.trustpilot.com/review/www.carrefour.fr\n",
            "Scrapping page  40  from url  https://fr.trustpilot.com/review/www.carrefour.fr\n",
            "Scrapping page  41  from url  https://fr.trustpilot.com/review/www.carrefour.fr\n",
            "Scrapping page  42  from url  https://fr.trustpilot.com/review/www.carrefour.fr\n",
            "Scrapping page  43  from url  https://fr.trustpilot.com/review/www.carrefour.fr\n",
            "Scrapping page  44  from url  https://fr.trustpilot.com/review/www.carrefour.fr\n",
            "Scrapping page  45  from url  https://fr.trustpilot.com/review/www.carrefour.fr\n",
            "Scrapping page  46  from url  https://fr.trustpilot.com/review/www.carrefour.fr\n",
            "Scrapping page  47  from url  https://fr.trustpilot.com/review/www.carrefour.fr\n",
            "Scrapping page  48  from url  https://fr.trustpilot.com/review/www.carrefour.fr\n",
            "Scrapping page  49  from url  https://fr.trustpilot.com/review/www.carrefour.fr\n",
            "Scrapping page  50  from url  https://fr.trustpilot.com/review/www.carrefour.fr\n",
            "Scrapping page  51  from url  https://fr.trustpilot.com/review/www.carrefour.fr\n",
            "Scrapping page  52  from url  https://fr.trustpilot.com/review/www.carrefour.fr\n",
            "Scrapping page  53  from url  https://fr.trustpilot.com/review/www.carrefour.fr\n",
            "Scrapping page  54  from url  https://fr.trustpilot.com/review/www.carrefour.fr\n",
            "Scrapping page  55  from url  https://fr.trustpilot.com/review/www.carrefour.fr\n",
            "Scrapping page  56  from url  https://fr.trustpilot.com/review/www.carrefour.fr\n",
            "Scrapping page  57  from url  https://fr.trustpilot.com/review/www.carrefour.fr\n",
            "Scrapping page  58  from url  https://fr.trustpilot.com/review/www.carrefour.fr\n",
            "Scrapping page  59  from url  https://fr.trustpilot.com/review/www.carrefour.fr\n",
            "Scrapping page  60  from url  https://fr.trustpilot.com/review/www.carrefour.fr\n",
            "Scrapping page  61  from url  https://fr.trustpilot.com/review/www.carrefour.fr\n",
            "Scrapping page  62  from url  https://fr.trustpilot.com/review/www.carrefour.fr\n",
            "Scrapping page  63  from url  https://fr.trustpilot.com/review/www.carrefour.fr\n",
            "Scrapping page  64  from url  https://fr.trustpilot.com/review/www.carrefour.fr\n",
            "Scrapping page  65  from url  https://fr.trustpilot.com/review/www.carrefour.fr\n",
            "Scrapping page  66  from url  https://fr.trustpilot.com/review/www.carrefour.fr\n",
            "Scrapping page  67  from url  https://fr.trustpilot.com/review/www.carrefour.fr\n",
            "Scrapping page  68  from url  https://fr.trustpilot.com/review/www.carrefour.fr\n",
            "Scrapping page  69  from url  https://fr.trustpilot.com/review/www.carrefour.fr\n",
            "Scrapping page  70  from url  https://fr.trustpilot.com/review/www.carrefour.fr\n",
            "Scrapping page  71  from url  https://fr.trustpilot.com/review/www.carrefour.fr\n",
            "Scrapping page  72  from url  https://fr.trustpilot.com/review/www.carrefour.fr\n",
            "Scrapping page  73  from url  https://fr.trustpilot.com/review/www.carrefour.fr\n",
            "Scrapping page  74  from url  https://fr.trustpilot.com/review/www.carrefour.fr\n",
            "Scrapping page  75  from url  https://fr.trustpilot.com/review/www.carrefour.fr\n",
            "Scrapping page  76  from url  https://fr.trustpilot.com/review/www.carrefour.fr\n",
            "Scrapping page  77  from url  https://fr.trustpilot.com/review/www.carrefour.fr\n",
            "Scrapping page  78  from url  https://fr.trustpilot.com/review/www.carrefour.fr\n",
            "Scrapping page  79  from url  https://fr.trustpilot.com/review/www.carrefour.fr\n",
            "Scrapping page  80  from url  https://fr.trustpilot.com/review/www.carrefour.fr\n",
            "Scrapping page  81  from url  https://fr.trustpilot.com/review/www.carrefour.fr\n",
            "Scrapping page  82  from url  https://fr.trustpilot.com/review/www.carrefour.fr\n",
            "Scrapping page  83  from url  https://fr.trustpilot.com/review/www.carrefour.fr\n",
            "Scrapping page  84  from url  https://fr.trustpilot.com/review/www.carrefour.fr\n",
            "Scrapping page  85  from url  https://fr.trustpilot.com/review/www.carrefour.fr\n",
            "Scrapping page  86  from url  https://fr.trustpilot.com/review/www.carrefour.fr\n",
            "Scrapping page  87  from url  https://fr.trustpilot.com/review/www.carrefour.fr\n",
            "Scrapping page  88  from url  https://fr.trustpilot.com/review/www.carrefour.fr\n",
            "Scrapping page  89  from url  https://fr.trustpilot.com/review/www.carrefour.fr\n",
            "Scrapping page  90  from url  https://fr.trustpilot.com/review/www.carrefour.fr\n",
            "Scrapping page  91  from url  https://fr.trustpilot.com/review/www.carrefour.fr\n",
            "Scrapping page  92  from url  https://fr.trustpilot.com/review/www.carrefour.fr\n",
            "Scrapping page  93  from url  https://fr.trustpilot.com/review/www.carrefour.fr\n",
            "Scrapping page  94  from url  https://fr.trustpilot.com/review/www.carrefour.fr\n",
            "Scrapping page  95  from url  https://fr.trustpilot.com/review/www.carrefour.fr\n",
            "Scrapping page  96  from url  https://fr.trustpilot.com/review/www.carrefour.fr\n",
            "Scrapping page  97  from url  https://fr.trustpilot.com/review/www.carrefour.fr\n",
            "Scrapping page  98  from url  https://fr.trustpilot.com/review/www.carrefour.fr\n",
            "Scrapping page  99  from url  https://fr.trustpilot.com/review/www.carrefour.fr\n",
            "Scrapping page  100  from url  https://fr.trustpilot.com/review/www.carrefour.fr\n",
            "Scrapping page  101  from url  https://fr.trustpilot.com/review/www.carrefour.fr\n",
            "Scrapping page  102  from url  https://fr.trustpilot.com/review/www.carrefour.fr\n"
          ]
        }
      ]
    },
    {
      "cell_type": "code",
      "source": [
        "len(all_reviews)"
      ],
      "metadata": {
        "colab": {
          "base_uri": "https://localhost:8080/"
        },
        "id": "mcwjDAB-HyxK",
        "outputId": "91e32d41-d172-45a4-dc3f-9bd23e7191d5"
      },
      "execution_count": null,
      "outputs": [
        {
          "output_type": "execute_result",
          "data": {
            "text/plain": [
              "2059"
            ]
          },
          "metadata": {},
          "execution_count": 51
        }
      ]
    },
    {
      "cell_type": "code",
      "source": [
        "all_reviews_to=  all_reviews.iloc[0:2000]"
      ],
      "metadata": {
        "id": "juo4VxRzK8XK"
      },
      "execution_count": null,
      "outputs": []
    },
    {
      "cell_type": "code",
      "source": [
        "all_reviews_to"
      ],
      "metadata": {
        "id": "FQU6zQXgMr8W",
        "outputId": "8d25451a-8c17-432f-b57c-e44fe0ace87d",
        "colab": {
          "base_uri": "https://localhost:8080/",
          "height": 641
        }
      },
      "execution_count": null,
      "outputs": [
        {
          "output_type": "execute_result",
          "data": {
            "text/plain": [
              "                                                  title rating  \\\n",
              "0                             bravo, c'est plus simple.      1   \n",
              "1                Bonjour pour une fois je commande sur…      1   \n",
              "2                      Bravo le gaspillage énergétique!      1   \n",
              "3                                       SAV incompétent      1   \n",
              "4                  De passage dans la région je vais à…      1   \n",
              "...                                                 ...    ...   \n",
              "1995                 Aucun contact possible avec le SAV      1   \n",
              "1996                        A EVITER SAV CATASTROPHIQUE      1   \n",
              "1997                                        Bel appât !      1   \n",
              "1998  Publicité mensongère, site online inacceptable...      1   \n",
              "1999                       A EVITER ABSOLUMENT.........      4   \n",
              "\n",
              "                                                   text  \\\n",
              "0     : rien à redire pour le produit. par contre co...   \n",
              "1     Bonjour pour une fois je commande sur internet...   \n",
              "2     Je trouve ça honteux de trouver encore dans ce...   \n",
              "3     J’ai commandé une PlayStation 5. La livraison ...   \n",
              "4     De passage dans la région je vais à Carrefour ...   \n",
              "...                                                 ...   \n",
              "1995  À l'heure ou j'écris j'en suis au 5eme appel c...   \n",
              "1996  J'ai commandé une TV Philips 140 Cm au bout de...   \n",
              "1997  Mon ordinateur portable commençant à me lâcher...   \n",
              "1998  des expériences similaires à la mienne ont déj...   \n",
              "1999  commander un fauteuil le 26/07/2014 bien sur i...   \n",
              "\n",
              "                   review_date  \\\n",
              "0     2023-03-09T12:39:39.000Z   \n",
              "1     2023-03-09T20:34:24.000Z   \n",
              "2     2023-03-08T14:26:46.000Z   \n",
              "3     2023-03-06T21:56:51.000Z   \n",
              "4     2023-03-04T21:10:55.000Z   \n",
              "...                        ...   \n",
              "1995  2014-09-12T14:27:00.000Z   \n",
              "1996  2014-09-10T15:19:43.000Z   \n",
              "1997  2014-09-10T12:31:16.000Z   \n",
              "1998  2014-09-05T19:59:34.000Z   \n",
              "1999  2014-09-04T08:07:09.000Z   \n",
              "\n",
              "                                                  reply  \\\n",
              "0                                                         \n",
              "1                                                         \n",
              "2     Bonjour, Carrefour a pris l'engagement de rédu...   \n",
              "3     Bonjour, Pourriez-vous nous communiquer votre ...   \n",
              "4     Bonjour, information pris près du magasin, c'e...   \n",
              "...                                                 ...   \n",
              "1995                                                      \n",
              "1996                                                      \n",
              "1997                                                      \n",
              "1998                                                      \n",
              "1999                                                      \n",
              "\n",
              "                    reply_date  \n",
              "0                               \n",
              "1                               \n",
              "2     2023-03-08T19:14:29.000Z  \n",
              "3     2023-03-07T11:26:54.000Z  \n",
              "4     2023-03-06T14:48:54.000Z  \n",
              "...                        ...  \n",
              "1995                            \n",
              "1996                            \n",
              "1997                            \n",
              "1998                            \n",
              "1999                            \n",
              "\n",
              "[2000 rows x 6 columns]"
            ],
            "text/html": [
              "\n",
              "  <div id=\"df-516a682b-34f7-4648-952c-10be14609511\">\n",
              "    <div class=\"colab-df-container\">\n",
              "      <div>\n",
              "<style scoped>\n",
              "    .dataframe tbody tr th:only-of-type {\n",
              "        vertical-align: middle;\n",
              "    }\n",
              "\n",
              "    .dataframe tbody tr th {\n",
              "        vertical-align: top;\n",
              "    }\n",
              "\n",
              "    .dataframe thead th {\n",
              "        text-align: right;\n",
              "    }\n",
              "</style>\n",
              "<table border=\"1\" class=\"dataframe\">\n",
              "  <thead>\n",
              "    <tr style=\"text-align: right;\">\n",
              "      <th></th>\n",
              "      <th>title</th>\n",
              "      <th>rating</th>\n",
              "      <th>text</th>\n",
              "      <th>review_date</th>\n",
              "      <th>reply</th>\n",
              "      <th>reply_date</th>\n",
              "    </tr>\n",
              "  </thead>\n",
              "  <tbody>\n",
              "    <tr>\n",
              "      <th>0</th>\n",
              "      <td>bravo, c'est plus simple.</td>\n",
              "      <td>1</td>\n",
              "      <td>: rien à redire pour le produit. par contre co...</td>\n",
              "      <td>2023-03-09T12:39:39.000Z</td>\n",
              "      <td></td>\n",
              "      <td></td>\n",
              "    </tr>\n",
              "    <tr>\n",
              "      <th>1</th>\n",
              "      <td>Bonjour pour une fois je commande sur…</td>\n",
              "      <td>1</td>\n",
              "      <td>Bonjour pour une fois je commande sur internet...</td>\n",
              "      <td>2023-03-09T20:34:24.000Z</td>\n",
              "      <td></td>\n",
              "      <td></td>\n",
              "    </tr>\n",
              "    <tr>\n",
              "      <th>2</th>\n",
              "      <td>Bravo le gaspillage énergétique!</td>\n",
              "      <td>1</td>\n",
              "      <td>Je trouve ça honteux de trouver encore dans ce...</td>\n",
              "      <td>2023-03-08T14:26:46.000Z</td>\n",
              "      <td>Bonjour, Carrefour a pris l'engagement de rédu...</td>\n",
              "      <td>2023-03-08T19:14:29.000Z</td>\n",
              "    </tr>\n",
              "    <tr>\n",
              "      <th>3</th>\n",
              "      <td>SAV incompétent</td>\n",
              "      <td>1</td>\n",
              "      <td>J’ai commandé une PlayStation 5. La livraison ...</td>\n",
              "      <td>2023-03-06T21:56:51.000Z</td>\n",
              "      <td>Bonjour, Pourriez-vous nous communiquer votre ...</td>\n",
              "      <td>2023-03-07T11:26:54.000Z</td>\n",
              "    </tr>\n",
              "    <tr>\n",
              "      <th>4</th>\n",
              "      <td>De passage dans la région je vais à…</td>\n",
              "      <td>1</td>\n",
              "      <td>De passage dans la région je vais à Carrefour ...</td>\n",
              "      <td>2023-03-04T21:10:55.000Z</td>\n",
              "      <td>Bonjour, information pris près du magasin, c'e...</td>\n",
              "      <td>2023-03-06T14:48:54.000Z</td>\n",
              "    </tr>\n",
              "    <tr>\n",
              "      <th>...</th>\n",
              "      <td>...</td>\n",
              "      <td>...</td>\n",
              "      <td>...</td>\n",
              "      <td>...</td>\n",
              "      <td>...</td>\n",
              "      <td>...</td>\n",
              "    </tr>\n",
              "    <tr>\n",
              "      <th>1995</th>\n",
              "      <td>Aucun contact possible avec le SAV</td>\n",
              "      <td>1</td>\n",
              "      <td>À l'heure ou j'écris j'en suis au 5eme appel c...</td>\n",
              "      <td>2014-09-12T14:27:00.000Z</td>\n",
              "      <td></td>\n",
              "      <td></td>\n",
              "    </tr>\n",
              "    <tr>\n",
              "      <th>1996</th>\n",
              "      <td>A EVITER SAV CATASTROPHIQUE</td>\n",
              "      <td>1</td>\n",
              "      <td>J'ai commandé une TV Philips 140 Cm au bout de...</td>\n",
              "      <td>2014-09-10T15:19:43.000Z</td>\n",
              "      <td></td>\n",
              "      <td></td>\n",
              "    </tr>\n",
              "    <tr>\n",
              "      <th>1997</th>\n",
              "      <td>Bel appât !</td>\n",
              "      <td>1</td>\n",
              "      <td>Mon ordinateur portable commençant à me lâcher...</td>\n",
              "      <td>2014-09-10T12:31:16.000Z</td>\n",
              "      <td></td>\n",
              "      <td></td>\n",
              "    </tr>\n",
              "    <tr>\n",
              "      <th>1998</th>\n",
              "      <td>Publicité mensongère, site online inacceptable...</td>\n",
              "      <td>1</td>\n",
              "      <td>des expériences similaires à la mienne ont déj...</td>\n",
              "      <td>2014-09-05T19:59:34.000Z</td>\n",
              "      <td></td>\n",
              "      <td></td>\n",
              "    </tr>\n",
              "    <tr>\n",
              "      <th>1999</th>\n",
              "      <td>A EVITER ABSOLUMENT.........</td>\n",
              "      <td>4</td>\n",
              "      <td>commander un fauteuil le 26/07/2014 bien sur i...</td>\n",
              "      <td>2014-09-04T08:07:09.000Z</td>\n",
              "      <td></td>\n",
              "      <td></td>\n",
              "    </tr>\n",
              "  </tbody>\n",
              "</table>\n",
              "<p>2000 rows × 6 columns</p>\n",
              "</div>\n",
              "      <button class=\"colab-df-convert\" onclick=\"convertToInteractive('df-516a682b-34f7-4648-952c-10be14609511')\"\n",
              "              title=\"Convert this dataframe to an interactive table.\"\n",
              "              style=\"display:none;\">\n",
              "        \n",
              "  <svg xmlns=\"http://www.w3.org/2000/svg\" height=\"24px\"viewBox=\"0 0 24 24\"\n",
              "       width=\"24px\">\n",
              "    <path d=\"M0 0h24v24H0V0z\" fill=\"none\"/>\n",
              "    <path d=\"M18.56 5.44l.94 2.06.94-2.06 2.06-.94-2.06-.94-.94-2.06-.94 2.06-2.06.94zm-11 1L8.5 8.5l.94-2.06 2.06-.94-2.06-.94L8.5 2.5l-.94 2.06-2.06.94zm10 10l.94 2.06.94-2.06 2.06-.94-2.06-.94-.94-2.06-.94 2.06-2.06.94z\"/><path d=\"M17.41 7.96l-1.37-1.37c-.4-.4-.92-.59-1.43-.59-.52 0-1.04.2-1.43.59L10.3 9.45l-7.72 7.72c-.78.78-.78 2.05 0 2.83L4 21.41c.39.39.9.59 1.41.59.51 0 1.02-.2 1.41-.59l7.78-7.78 2.81-2.81c.8-.78.8-2.07 0-2.86zM5.41 20L4 18.59l7.72-7.72 1.47 1.35L5.41 20z\"/>\n",
              "  </svg>\n",
              "      </button>\n",
              "      \n",
              "  <style>\n",
              "    .colab-df-container {\n",
              "      display:flex;\n",
              "      flex-wrap:wrap;\n",
              "      gap: 12px;\n",
              "    }\n",
              "\n",
              "    .colab-df-convert {\n",
              "      background-color: #E8F0FE;\n",
              "      border: none;\n",
              "      border-radius: 50%;\n",
              "      cursor: pointer;\n",
              "      display: none;\n",
              "      fill: #1967D2;\n",
              "      height: 32px;\n",
              "      padding: 0 0 0 0;\n",
              "      width: 32px;\n",
              "    }\n",
              "\n",
              "    .colab-df-convert:hover {\n",
              "      background-color: #E2EBFA;\n",
              "      box-shadow: 0px 1px 2px rgba(60, 64, 67, 0.3), 0px 1px 3px 1px rgba(60, 64, 67, 0.15);\n",
              "      fill: #174EA6;\n",
              "    }\n",
              "\n",
              "    [theme=dark] .colab-df-convert {\n",
              "      background-color: #3B4455;\n",
              "      fill: #D2E3FC;\n",
              "    }\n",
              "\n",
              "    [theme=dark] .colab-df-convert:hover {\n",
              "      background-color: #434B5C;\n",
              "      box-shadow: 0px 1px 3px 1px rgba(0, 0, 0, 0.15);\n",
              "      filter: drop-shadow(0px 1px 2px rgba(0, 0, 0, 0.3));\n",
              "      fill: #FFFFFF;\n",
              "    }\n",
              "  </style>\n",
              "\n",
              "      <script>\n",
              "        const buttonEl =\n",
              "          document.querySelector('#df-516a682b-34f7-4648-952c-10be14609511 button.colab-df-convert');\n",
              "        buttonEl.style.display =\n",
              "          google.colab.kernel.accessAllowed ? 'block' : 'none';\n",
              "\n",
              "        async function convertToInteractive(key) {\n",
              "          const element = document.querySelector('#df-516a682b-34f7-4648-952c-10be14609511');\n",
              "          const dataTable =\n",
              "            await google.colab.kernel.invokeFunction('convertToInteractive',\n",
              "                                                     [key], {});\n",
              "          if (!dataTable) return;\n",
              "\n",
              "          const docLinkHtml = 'Like what you see? Visit the ' +\n",
              "            '<a target=\"_blank\" href=https://colab.research.google.com/notebooks/data_table.ipynb>data table notebook</a>'\n",
              "            + ' to learn more about interactive tables.';\n",
              "          element.innerHTML = '';\n",
              "          dataTable['output_type'] = 'display_data';\n",
              "          await google.colab.output.renderOutput(dataTable, element);\n",
              "          const docLink = document.createElement('div');\n",
              "          docLink.innerHTML = docLinkHtml;\n",
              "          element.appendChild(docLink);\n",
              "        }\n",
              "      </script>\n",
              "    </div>\n",
              "  </div>\n",
              "  "
            ]
          },
          "metadata": {},
          "execution_count": 53
        }
      ]
    },
    {
      "cell_type": "markdown",
      "source": [
        "### **Save the data frame to a csv**"
      ],
      "metadata": {
        "id": "aJ5VGCTmHsEX"
      }
    },
    {
      "cell_type": "code",
      "source": [
        "all_reviews.to_csv('reviews_carrefour.csv')"
      ],
      "metadata": {
        "id": "OWSzrdlZHxeF"
      },
      "execution_count": null,
      "outputs": []
    }
  ]
}